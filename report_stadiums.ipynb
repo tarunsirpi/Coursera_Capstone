{
 "cells": [
  {
   "cell_type": "markdown",
   "metadata": {},
   "source": [
    "# Data Science Capstone Project - Report"
   ]
  },
  {
   "cell_type": "markdown",
   "metadata": {},
   "source": [
    "## England Football Stadiums Segmentation"
   ]
  },
  {
   "cell_type": "markdown",
   "metadata": {},
   "source": [
    "## Introduction"
   ]
  },
  {
   "cell_type": "markdown",
   "metadata": {},
   "source": [
    "Football is the most popular sport in England. Almost everyone follows and supports a football club in England. There are about 40,000 football clubs registered with the Football Association(FA) which is the governing body for football in England. One of the sources of the clubs is matchday ticket sales. Fans would buy tickets to watch their favourite teams play in stadiums all over England and would travel to other regions to support the teams. "
   ]
  },
  {
   "cell_type": "markdown",
   "metadata": {},
   "source": [
    "## Business problem"
   ]
  },
  {
   "cell_type": "markdown",
   "metadata": {},
   "source": [
    "The objective of this project is to segment various stadiums in England based on the types of food available in the region around the stadiums. This would help travelling fans to know the type of food before/after matches and have their best match experience. "
   ]
  },
  {
   "cell_type": "markdown",
   "metadata": {},
   "source": [
    "## Data"
   ]
  },
  {
   "cell_type": "markdown",
   "metadata": {},
   "source": [
    "The data that will be used for this project are the list of stadiums in England which is taken from the Wikipedia page https://en.wikipedia.org/wiki/Football_in_England . Additionally, the latitude and longitude data of the stadiums and Foursquare data for the venues will be required for locating and segmenting the stadiums."
   ]
  },
  {
   "cell_type": "markdown",
   "metadata": {},
   "source": [
    "## Methodology"
   ]
  },
  {
   "cell_type": "markdown",
   "metadata": {},
   "source": [
    "The data of the stadiums are taken from the web page mentioned. The data is cleaned for processing. By using geocoder from geopy library, the latitude and longitude data of the stadiums are obtained. By using the Foursquare API, the food venues near the stadiums are found. The 'explore' end point from foursquare is used for getting the recommended venues near the stadiums with the query used being \"food\". Then the data are grouped based on the stadium associated with the food spot. Then, the data are fed to the \"KMeans\" clustering algorithm to group them into clusters and the data points are displayed on a map using the folium package."
   ]
  },
  {
   "cell_type": "markdown",
   "metadata": {},
   "source": [
    "## Results"
   ]
  },
  {
   "cell_type": "markdown",
   "metadata": {},
   "source": [
    "Thus, the England football stadiums have been clustered based on the type of food that is best available around the stadiums."
   ]
  },
  {
   "cell_type": "markdown",
   "metadata": {},
   "source": [
    "## Discussion"
   ]
  },
  {
   "attachments": {},
   "cell_type": "markdown",
   "metadata": {},
   "source": [
    "It is observed that the food choice in England is very vast and a lot of different types of food based venues are present. It is also seen that various cuisines other than native to England are very frequent (example, High frequency of Indian, Italian, Chinese cuisine based venues in the cluster number 3). "
   ]
  },
  {
   "cell_type": "markdown",
   "metadata": {},
   "source": [
    "## Conclusion"
   ]
  },
  {
   "cell_type": "markdown",
   "metadata": {},
   "source": [
    "Hence, England is observed to have high number of varieties when food spots are considered. However, the motive of this study is to suggest the football fans who visit the stadiums to see thier teams live the popular food spots. This study will be of some use to better their live match experience."
   ]
  },
  {
   "cell_type": "code",
   "execution_count": null,
   "metadata": {},
   "outputs": [],
   "source": []
  }
 ],
 "metadata": {
  "kernelspec": {
   "display_name": "Python 3",
   "language": "python",
   "name": "python3"
  },
  "language_info": {
   "codemirror_mode": {
    "name": "ipython",
    "version": 3
   },
   "file_extension": ".py",
   "mimetype": "text/x-python",
   "name": "python",
   "nbconvert_exporter": "python",
   "pygments_lexer": "ipython3",
   "version": "3.7.1"
  }
 },
 "nbformat": 4,
 "nbformat_minor": 2
}
